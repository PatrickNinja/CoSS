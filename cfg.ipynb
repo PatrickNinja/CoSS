{
 "cells": [
  {
   "cell_type": "code",
   "execution_count": null,
   "id": "d0490eb7-0cb0-41b3-a356-9dc965955b48",
   "metadata": {},
   "outputs": [],
   "source": []
  },
  {
   "cell_type": "code",
   "execution_count": 1,
   "id": "4e4acbdf-f6a3-40fc-be95-28eb8e4b175a",
   "metadata": {},
   "outputs": [],
   "source": [
    "# !unzip progex-v3.4.5.zip"
   ]
  },
  {
   "cell_type": "code",
   "execution_count": null,
   "id": "a9df3a39-98ce-4638-853b-97e2a19b2e5d",
   "metadata": {},
   "outputs": [],
   "source": []
  },
  {
   "cell_type": "code",
   "execution_count": 2,
   "id": "59fef502-a462-455a-9db1-b263e7853adc",
   "metadata": {},
   "outputs": [],
   "source": [
    "import os\n",
    "import pandas as pd\n",
    "import shutil\n",
    "from tqdm.auto import tqdm"
   ]
  },
  {
   "cell_type": "code",
   "execution_count": 3,
   "id": "46bd6b15-7a5b-468a-8e12-c39525ed79fb",
   "metadata": {},
   "outputs": [],
   "source": [
    "train = pd.read_json(\"data/java_train_0.jsonl\", lines=True)"
   ]
  },
  {
   "cell_type": "code",
   "execution_count": null,
   "id": "6e5d0e31-cdad-4446-addc-fe7ca5e0295b",
   "metadata": {},
   "outputs": [],
   "source": [
    "for index, row in tqdm(train.iterrows(), total=len(train)):\n",
    "    if os.path.exists(f\"data/train/{index}\"):\n",
    "        shutil.rmtree(f\"data/train/{index}\")\n",
    "    os.mkdir(f\"data/train/{index}\")\n",
    "    code = \"public class \" + f\"Java{index}\" + \" {\\n\"\n",
    "    code += row[\"original_string\"]\n",
    "    code += \"\\n}\"\n",
    "    with open(f\"data/train/{index}/Java{index}.java\", \"w\") as f:\n",
    "        f.write(code)\n",
    "    # 要执行的命令\n",
    "    command = f\"java -jar progex-v3.4.5/progex.jar -cfg data/train/{index} -outdir data/train/{index}\"\n",
    "    # 执行命令\n",
    "    output = os.system(command)"
   ]
  },
  {
   "cell_type": "code",
   "execution_count": 6,
   "id": "6ee1b953-d5b4-41ec-b001-9ec8adc55766",
   "metadata": {},
   "outputs": [],
   "source": [
    "valid = pd.read_json(\"data/java_valid_0.jsonl\", lines=True)"
   ]
  },
  {
   "cell_type": "code",
   "execution_count": null,
   "id": "d00aaa4d-c0b8-4b87-aad4-b21b4dfb410e",
   "metadata": {},
   "outputs": [],
   "source": [
    "for index, row in tqdm(valid.iterrows(), total=len(valid)):\n",
    "    if os.path.exists(f\"data/valid/{index}\"):\n",
    "        shutil.rmtree(f\"data/valid/{index}\")\n",
    "    os.mkdir(f\"data/valid/{index}\")\n",
    "    code = \"public class \" + f\"Java{index}\" + \" {\\n\"\n",
    "    code += row[\"original_string\"]\n",
    "    code += \"\\n}\"\n",
    "    with open(f\"data/valid/{index}/Java{index}.java\", \"w\") as f:\n",
    "        f.write(code)\n",
    "    # 要执行的命令\n",
    "    command = f\"java -jar progex-v3.4.5/progex.jar -cfg data/valid/{index} -outdir data/valid/{index}\"\n",
    "    # 执行命令\n",
    "    output = os.system(command)"
   ]
  },
  {
   "cell_type": "code",
   "execution_count": null,
   "id": "a1200c4d-5951-447f-8689-f30acdb67cb2",
   "metadata": {},
   "outputs": [],
   "source": [
    "test = pd.read_json(\"data/java_test_0.jsonl\", lines=True)"
   ]
  },
  {
   "cell_type": "code",
   "execution_count": null,
   "id": "4394eb4c-5460-4595-a222-009801a2a673",
   "metadata": {},
   "outputs": [],
   "source": [
    "for index, row in tqdm(test.iterrows(), total=len(test)):\n",
    "    if os.path.exists(f\"data/test/{index}\"):\n",
    "        shutil.rmtree(f\"data/test/{index}\")\n",
    "    os.mkdir(f\"data/test/{index}\")\n",
    "    code = \"public class \" + f\"Java{index}\" + \" {\\n\"\n",
    "    code += row[\"original_string\"]\n",
    "    code += \"\\n}\"\n",
    "    with open(f\"data/test/{index}/Java{index}.java\", \"w\") as f:\n",
    "        f.write(code)\n",
    "    # 要执行的命令\n",
    "    command = f\"java -jar progex-v3.4.5/progex.jar -cfg data/test/{index} -outdir data/test/{index}\"\n",
    "    # 执行命令\n",
    "    output = os.system(command)"
   ]
  },
  {
   "cell_type": "code",
   "execution_count": null,
   "id": "bd2d9d3d-d989-4d43-adba-7ae637a884ad",
   "metadata": {},
   "outputs": [],
   "source": []
  },
  {
   "cell_type": "code",
   "execution_count": null,
   "id": "a0fb77b3-1642-46a6-9913-cc38888040de",
   "metadata": {},
   "outputs": [],
   "source": []
  },
  {
   "cell_type": "code",
   "execution_count": null,
   "id": "71c43a26-5038-4a91-a61d-aaca3c7c5d3e",
   "metadata": {},
   "outputs": [],
   "source": []
  },
  {
   "cell_type": "code",
   "execution_count": null,
   "id": "66ba9bba-b591-4d4d-b40c-ce6fe66714e9",
   "metadata": {},
   "outputs": [],
   "source": []
  },
  {
   "cell_type": "code",
   "execution_count": null,
   "id": "58296677-cffa-4085-bc28-ba58768b480b",
   "metadata": {},
   "outputs": [],
   "source": []
  }
 ],
 "metadata": {
  "kernelspec": {
   "display_name": "Python 3",
   "language": "python",
   "name": "python3"
  },
  "language_info": {
   "codemirror_mode": {
    "name": "ipython",
    "version": 3
   },
   "file_extension": ".py",
   "mimetype": "text/x-python",
   "name": "python",
   "nbconvert_exporter": "python",
   "pygments_lexer": "ipython3",
   "version": "3.6.5"
  }
 },
 "nbformat": 4,
 "nbformat_minor": 5
}
