{
 "cells": [
  {
   "cell_type": "code",
   "execution_count": null,
   "id": "cb43f8df-718e-41d6-87d1-84beaa0ede34",
   "metadata": {},
   "outputs": [],
   "source": [
    "import os\n",
    "os.environ['http_proxy'] = \"http://proxygate2.ctripcorp.com:8080\"\n",
    "os.environ['https_proxy'] = \"http://proxygate2.ctripcorp.com:8080\""
   ]
  },
  {
   "cell_type": "code",
   "execution_count": null,
   "id": "b21d56ae-bfab-46d0-921f-6ed533181721",
   "metadata": {},
   "outputs": [],
   "source": [
    "import pickle\n",
    "import importlib\n",
    "\n",
    "from sklearn.model_selection import train_test_split\n",
    "\n",
    "import pandas as pd\n",
    "from datasets import Dataset\n",
    "\n",
    "import torch\n",
    "from torch.utils.data import DataLoader, distributed\n",
    "from torch import optim, nn\n",
    "from torch.nn import functional as F\n",
    "from torch.nn.parallel import DistributedDataParallel\n",
    "import torch.distributed as dist\n",
    "\n",
    "from transformers import AutoTokenizer\n",
    "from tqdm.auto import tqdm\n",
    "\n",
    "from utils.checkpoint import checkpoint\n",
    "from utils.makeModel import make_model\n",
    "from utils.run import Fit\n",
    "from Transformer.Module import WarmUpOpt, LabelSmoothing"
   ]
  },
  {
   "cell_type": "code",
   "execution_count": null,
   "id": "d54f7bf0-d05c-4451-9815-a810b9130330",
   "metadata": {},
   "outputs": [],
   "source": [
    "class CFG:\n",
    "    source_max_segment = 40\n",
    "    source_max_length = 50\n",
    "    target_max_length = 300\n",
    "    pretrained_model_name_or_path = 'facebook/bart-base'\n",
    "    gradient_clipper = 5\n",
    "    smoothing = 0.1\n",
    "    checkpoint_path = 'model'\n",
    "    device = torch.device(\"cuda\" if torch.cuda.is_available() else \"cpu\")\n",
    "    embedding_dim = 512\n",
    "    num_head = 8\n",
    "    num_layer_encoder = 6\n",
    "    num_layer_decoder = 6\n",
    "    num_layer_graph_encoder = 6\n",
    "    d_ff = 2048\n",
    "    dropout_embed = 0.1\n",
    "    dropout_sublayer = 0.1\n",
    "    learning_rate = 1e-04\n",
    "    beta_1 = 0.9\n",
    "    beta_2 = 0.98\n",
    "    eps = 1e-09\n",
    "    weight_decay = 1e-05\n",
    "    warmup_steps = 4000\n",
    "    min_learning_rate = 0\n",
    "    factor = 1\n",
    "    batch_size = 16\n",
    "    epoch = 5\n",
    "\n",
    "cfg = CFG()"
   ]
  },
  {
   "cell_type": "code",
   "execution_count": null,
   "id": "2a565bf9-eb86-4f89-97a9-04f03ad7d085",
   "metadata": {},
   "outputs": [],
   "source": [
    "train_df = pd.read_csv(\"data/train.csv\")\n",
    "valid_df = pd.read_csv(\"data/valid.csv\")\n",
    "test_df = pd.read_csv(\"data/test.csv\")"
   ]
  },
  {
   "cell_type": "code",
   "execution_count": null,
   "id": "c8f5368e-f6c0-45b9-bf97-80c2c925f80c",
   "metadata": {},
   "outputs": [],
   "source": [
    "# train_df = train_df[:1000]\n",
    "# valid_df = valid_df[:200]\n",
    "# test_df = test_df[:200]"
   ]
  },
  {
   "cell_type": "code",
   "execution_count": null,
   "id": "db9c91a3-ebae-4726-8edc-6c562a257f03",
   "metadata": {},
   "outputs": [],
   "source": [
    "all_df = pd.concat([train_df, valid_df, test_df])"
   ]
  },
  {
   "cell_type": "code",
   "execution_count": null,
   "id": "75f49924-f0b2-4577-8d3f-e42c3de360c7",
   "metadata": {},
   "outputs": [],
   "source": [
    "train_df, test_df = train_test_split(all_df, test_size=0.2, random_state=42)"
   ]
  },
  {
   "cell_type": "code",
   "execution_count": null,
   "id": "82ba29c3-3cfe-44e6-8338-518249c55bc9",
   "metadata": {},
   "outputs": [],
   "source": [
    "train_df = train_df.reset_index(drop=True)\n",
    "test_df = test_df.reset_index(drop=True)"
   ]
  },
  {
   "cell_type": "code",
   "execution_count": null,
   "id": "30c2b2ab-039b-4f97-a2c3-64a19759966a",
   "metadata": {},
   "outputs": [],
   "source": [
    "train_df"
   ]
  },
  {
   "cell_type": "code",
   "execution_count": null,
   "id": "d3b33801-752d-4cda-8d70-d1ae41c8c0d9",
   "metadata": {},
   "outputs": [],
   "source": []
  },
  {
   "cell_type": "code",
   "execution_count": null,
   "id": "ebf96a46-d72c-4723-a61a-ee35b9b215fa",
   "metadata": {},
   "outputs": [],
   "source": [
    "tokenizer = AutoTokenizer.from_pretrained(cfg.pretrained_model_name_or_path)"
   ]
  },
  {
   "cell_type": "code",
   "execution_count": null,
   "id": "1c611e74-11d5-4ce7-bd0a-7778b714fcb2",
   "metadata": {},
   "outputs": [],
   "source": [
    "def get_dataset(df, cfg):\n",
    "    D = []\n",
    "    for index, row in tqdm(df.iterrows(), total=len(df)):\n",
    "        node = eval(row['node'])\n",
    "        edge = eval(row['edge'])\n",
    "        docstring = row['docstring']\n",
    "        source_input_ids = []\n",
    "        source_attention_mask = []\n",
    "        target_input_ids = []\n",
    "        target_attention_mask = []\n",
    "        for segment in node[:cfg.source_max_segment]:\n",
    "            segment_tokens = tokenizer(segment, truncation=True, padding=\"max_length\", max_length=cfg.source_max_length)\n",
    "            source_input_ids.append(segment_tokens['input_ids'])\n",
    "            source_attention_mask.append(segment_tokens['attention_mask'])\n",
    "        if len(source_input_ids) < cfg.source_max_segment:\n",
    "            for i in range(len(source_input_ids), cfg.source_max_segment):\n",
    "                segment_tokens = tokenizer(\"\", truncation=True, padding=\"max_length\", max_length=cfg.source_max_length)\n",
    "                source_input_ids.append(segment_tokens['input_ids'])\n",
    "                source_attention_mask.append(segment_tokens['attention_mask'])\n",
    "        graph = [[0] * cfg.source_max_segment for _ in range(cfg.source_max_segment)]\n",
    "\n",
    "        for l, r in edge:\n",
    "            if l < cfg.source_max_segment and r < cfg.source_max_segment:\n",
    "                graph[l][r] = 1\n",
    "\n",
    "        segment_tokens = tokenizer(docstring, truncation=True, padding=\"max_length\", max_length=cfg.target_max_length)\n",
    "        D.append({\n",
    "            \"source_input_ids\": torch.LongTensor(source_input_ids),\n",
    "            \"graph\": torch.LongTensor(graph),\n",
    "            \"target_input_ids\": torch.LongTensor(segment_tokens['input_ids']),\n",
    "        })\n",
    "\n",
    "    dataset = Dataset.from_list(D)\n",
    "    dataset.set_format(type=\"torch\")\n",
    "\n",
    "    return dataset"
   ]
  },
  {
   "cell_type": "code",
   "execution_count": null,
   "id": "437c4b86-ea6b-483e-84b1-6ce21d6e4785",
   "metadata": {},
   "outputs": [],
   "source": [
    "cfg.PAD_index = tokenizer.convert_tokens_to_ids(tokenizer.pad_token)\n",
    "cfg.BOS_index = tokenizer.convert_tokens_to_ids(tokenizer.bos_token)\n",
    "cfg.EOS_index = tokenizer.convert_tokens_to_ids(tokenizer.eos_token)\n",
    "\n",
    "cfg.vocab_size = tokenizer.vocab_size\n",
    "\n",
    "criterion = LabelSmoothing(smoothing=cfg.smoothing, ignore_index=cfg.PAD_index)\n",
    "\n",
    "check_point = None\n",
    "check_point = checkpoint(save_path=cfg.checkpoint_path)\n",
    "params = {}\n",
    "params['checkpoint'] = check_point\n",
    "params['criterion'] = criterion\n",
    "\n",
    "model_state_dict = None\n",
    "optim_state_dict = None\n",
    "start_epoch = 0\n",
    "model_state_dict, optim_state_dict, start_epoch = params['checkpoint'].restore()\n",
    "\n",
    "model = make_model(cfg)\n",
    "\n",
    "optimizer = WarmUpOpt(\n",
    "    optimizer=optim.Adam(params=model.parameters(), lr=cfg.learning_rate, betas=(cfg.beta_1, cfg.beta_2), eps=cfg.eps,\n",
    "                         weight_decay=cfg.weight_decay),\n",
    "    d_model=cfg.embedding_dim,\n",
    "    warmup_steps=cfg.warmup_steps,\n",
    "    min_learning_rate=cfg.min_learning_rate,\n",
    "    factor=cfg.factor,\n",
    "    state_dict=optim_state_dict)\n",
    "\n",
    "if model_state_dict is not None:\n",
    "    model.load_state_dict(model_state_dict)\n",
    "params['model'] = model\n",
    "params['optimizer'] = optimizer"
   ]
  },
  {
   "cell_type": "code",
   "execution_count": null,
   "id": "aec63399-0776-466d-946e-fb306d29cb12",
   "metadata": {},
   "outputs": [],
   "source": [
    "train_dataset = get_dataset(train_df, cfg)\n",
    "test_dataset = get_dataset(test_df, cfg)\n",
    "\n",
    "for d in train_dataset:\n",
    "    print(d)\n",
    "    break"
   ]
  },
  {
   "cell_type": "code",
   "execution_count": null,
   "id": "cc8bec2a-75d6-4631-8d70-8a9246b872a2",
   "metadata": {},
   "outputs": [],
   "source": [
    "train_loader = DataLoader(dataset=train_dataset, batch_size=cfg.batch_size, shuffle=True, num_workers=0)\n",
    "test_loader = DataLoader(dataset=test_dataset, batch_size=cfg.batch_size, shuffle=True, num_workers=0)\n",
    "\n",
    "for d in train_loader:\n",
    "    print(d['source_input_ids'].shape)\n",
    "    print(d['graph'].shape)\n",
    "    print(d['target_input_ids'].shape)\n",
    "    break"
   ]
  },
  {
   "cell_type": "code",
   "execution_count": null,
   "id": "99a10f47-0020-4ba6-99f0-ac14e6043f12",
   "metadata": {},
   "outputs": [],
   "source": [
    "params['train_data'] = train_loader\n",
    "\n",
    "fit = Fit(cfg, params)"
   ]
  },
  {
   "cell_type": "code",
   "execution_count": null,
   "id": "4f680463-f58e-4d6c-8963-451032f0775c",
   "metadata": {},
   "outputs": [],
   "source": [
    "fit(start_epoch=start_epoch)"
   ]
  },
  {
   "cell_type": "code",
   "execution_count": null,
   "id": "de49bf22-ebdb-4a2b-8a27-799fd94da647",
   "metadata": {},
   "outputs": [],
   "source": []
  },
  {
   "cell_type": "code",
   "execution_count": null,
   "id": "283d3bde-565b-4955-957d-21078f580d41",
   "metadata": {},
   "outputs": [],
   "source": []
  },
  {
   "cell_type": "code",
   "execution_count": null,
   "id": "a6559c4b-a6e8-4e6f-905c-03cea4850d48",
   "metadata": {},
   "outputs": [],
   "source": []
  }
 ],
 "metadata": {
  "kernelspec": {
   "display_name": "python38",
   "language": "python",
   "name": "python38"
  },
  "language_info": {
   "codemirror_mode": {
    "name": "ipython",
    "version": 3
   },
   "file_extension": ".py",
   "mimetype": "text/x-python",
   "name": "python",
   "nbconvert_exporter": "python",
   "pygments_lexer": "ipython3",
   "version": "3.8.15"
  }
 },
 "nbformat": 4,
 "nbformat_minor": 5
}
